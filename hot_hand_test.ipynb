{
 "cells": [
  {
   "cell_type": "code",
   "execution_count": 3,
   "metadata": {},
   "outputs": [],
   "source": [
    "import os\n",
    "import numpy as np\n",
    "import pandas as pd\n",
    "import matplotlib.pyplot as plt"
   ]
  },
  {
   "cell_type": "code",
   "execution_count": 4,
   "metadata": {},
   "outputs": [],
   "source": [
    "pd.set_option('display.max_rows', 500)\n",
    "pd.set_option('display.max_columns', 500)\n",
    "pd.set_option('display.width', 1000)"
   ]
  },
  {
   "cell_type": "code",
   "execution_count": 5,
   "metadata": {},
   "outputs": [],
   "source": [
    "cwd = os.getcwd()  \n",
    "df = pd.read_csv(cwd+'/shot_logs.csv')\n"
   ]
  },
  {
   "cell_type": "code",
   "execution_count": 6,
   "metadata": {},
   "outputs": [
    {
     "data": {
      "text/plain": [
       "Index(['GAME_ID', 'MATCHUP', 'LOCATION', 'W', 'FINAL_MARGIN', 'SHOT_NUMBER', 'PERIOD', 'GAME_CLOCK', 'SHOT_CLOCK', 'DRIBBLES', 'TOUCH_TIME', 'SHOT_DIST', 'PTS_TYPE', 'SHOT_RESULT', 'CLOSEST_DEFENDER', 'CLOSEST_DEFENDER_PLAYER_ID', 'CLOSE_DEF_DIST', 'FGM', 'PTS', 'player_name', 'player_id'], dtype='object')"
      ]
     },
     "execution_count": 6,
     "metadata": {},
     "output_type": "execute_result"
    }
   ],
   "source": [
    "df.columns"
   ]
  },
  {
   "cell_type": "code",
   "execution_count": 7,
   "metadata": {},
   "outputs": [
    {
     "name": "stdout",
     "output_type": "stream",
     "text": [
      "<class 'pandas.core.frame.DataFrame'>\n",
      "RangeIndex: 128069 entries, 0 to 128068\n",
      "Data columns (total 21 columns):\n",
      "GAME_ID                       128069 non-null int64\n",
      "MATCHUP                       128069 non-null object\n",
      "LOCATION                      128069 non-null object\n",
      "W                             128069 non-null object\n",
      "FINAL_MARGIN                  128069 non-null int64\n",
      "SHOT_NUMBER                   128069 non-null int64\n",
      "PERIOD                        128069 non-null int64\n",
      "GAME_CLOCK                    128069 non-null object\n",
      "SHOT_CLOCK                    122502 non-null float64\n",
      "DRIBBLES                      128069 non-null int64\n",
      "TOUCH_TIME                    128069 non-null float64\n",
      "SHOT_DIST                     128069 non-null float64\n",
      "PTS_TYPE                      128069 non-null int64\n",
      "SHOT_RESULT                   128069 non-null object\n",
      "CLOSEST_DEFENDER              128069 non-null object\n",
      "CLOSEST_DEFENDER_PLAYER_ID    128069 non-null int64\n",
      "CLOSE_DEF_DIST                128069 non-null float64\n",
      "FGM                           128069 non-null int64\n",
      "PTS                           128069 non-null int64\n",
      "player_name                   128069 non-null object\n",
      "player_id                     128069 non-null int64\n",
      "dtypes: float64(4), int64(10), object(7)\n",
      "memory usage: 20.5+ MB\n"
     ]
    }
   ],
   "source": [
    "df.info()"
   ]
  },
  {
   "cell_type": "code",
   "execution_count": 8,
   "metadata": {},
   "outputs": [
    {
     "data": {
      "text/html": [
       "<div>\n",
       "<style scoped>\n",
       "    .dataframe tbody tr th:only-of-type {\n",
       "        vertical-align: middle;\n",
       "    }\n",
       "\n",
       "    .dataframe tbody tr th {\n",
       "        vertical-align: top;\n",
       "    }\n",
       "\n",
       "    .dataframe thead th {\n",
       "        text-align: right;\n",
       "    }\n",
       "</style>\n",
       "<table border=\"1\" class=\"dataframe\">\n",
       "  <thead>\n",
       "    <tr style=\"text-align: right;\">\n",
       "      <th></th>\n",
       "      <th>GAME_ID</th>\n",
       "      <th>FINAL_MARGIN</th>\n",
       "      <th>SHOT_NUMBER</th>\n",
       "      <th>PERIOD</th>\n",
       "      <th>SHOT_CLOCK</th>\n",
       "      <th>DRIBBLES</th>\n",
       "      <th>TOUCH_TIME</th>\n",
       "      <th>SHOT_DIST</th>\n",
       "      <th>PTS_TYPE</th>\n",
       "      <th>CLOSEST_DEFENDER_PLAYER_ID</th>\n",
       "      <th>CLOSE_DEF_DIST</th>\n",
       "      <th>FGM</th>\n",
       "      <th>PTS</th>\n",
       "      <th>player_id</th>\n",
       "    </tr>\n",
       "  </thead>\n",
       "  <tbody>\n",
       "    <tr>\n",
       "      <th>count</th>\n",
       "      <td>1.280690e+05</td>\n",
       "      <td>128069.000000</td>\n",
       "      <td>128069.000000</td>\n",
       "      <td>128069.000000</td>\n",
       "      <td>122502.000000</td>\n",
       "      <td>128069.000000</td>\n",
       "      <td>128069.000000</td>\n",
       "      <td>128069.000000</td>\n",
       "      <td>128069.000000</td>\n",
       "      <td>128069.000000</td>\n",
       "      <td>128069.000000</td>\n",
       "      <td>128069.000000</td>\n",
       "      <td>128069.000000</td>\n",
       "      <td>128069.000000</td>\n",
       "    </tr>\n",
       "    <tr>\n",
       "      <th>mean</th>\n",
       "      <td>2.140045e+07</td>\n",
       "      <td>0.208723</td>\n",
       "      <td>6.506899</td>\n",
       "      <td>2.469427</td>\n",
       "      <td>12.453344</td>\n",
       "      <td>2.023355</td>\n",
       "      <td>2.765901</td>\n",
       "      <td>13.571504</td>\n",
       "      <td>2.264670</td>\n",
       "      <td>159038.487284</td>\n",
       "      <td>4.123015</td>\n",
       "      <td>0.452139</td>\n",
       "      <td>0.997314</td>\n",
       "      <td>157238.251247</td>\n",
       "    </tr>\n",
       "    <tr>\n",
       "      <th>std</th>\n",
       "      <td>2.578773e+02</td>\n",
       "      <td>13.233267</td>\n",
       "      <td>4.713260</td>\n",
       "      <td>1.139919</td>\n",
       "      <td>5.763265</td>\n",
       "      <td>3.477760</td>\n",
       "      <td>3.043682</td>\n",
       "      <td>8.888964</td>\n",
       "      <td>0.441159</td>\n",
       "      <td>78791.172947</td>\n",
       "      <td>2.756446</td>\n",
       "      <td>0.497706</td>\n",
       "      <td>1.130978</td>\n",
       "      <td>79362.389336</td>\n",
       "    </tr>\n",
       "    <tr>\n",
       "      <th>min</th>\n",
       "      <td>2.140000e+07</td>\n",
       "      <td>-53.000000</td>\n",
       "      <td>1.000000</td>\n",
       "      <td>1.000000</td>\n",
       "      <td>0.000000</td>\n",
       "      <td>0.000000</td>\n",
       "      <td>-163.600000</td>\n",
       "      <td>0.000000</td>\n",
       "      <td>2.000000</td>\n",
       "      <td>708.000000</td>\n",
       "      <td>0.000000</td>\n",
       "      <td>0.000000</td>\n",
       "      <td>0.000000</td>\n",
       "      <td>708.000000</td>\n",
       "    </tr>\n",
       "    <tr>\n",
       "      <th>25%</th>\n",
       "      <td>2.140023e+07</td>\n",
       "      <td>-8.000000</td>\n",
       "      <td>3.000000</td>\n",
       "      <td>1.000000</td>\n",
       "      <td>8.200000</td>\n",
       "      <td>0.000000</td>\n",
       "      <td>0.900000</td>\n",
       "      <td>4.700000</td>\n",
       "      <td>2.000000</td>\n",
       "      <td>101249.000000</td>\n",
       "      <td>2.300000</td>\n",
       "      <td>0.000000</td>\n",
       "      <td>0.000000</td>\n",
       "      <td>101162.000000</td>\n",
       "    </tr>\n",
       "    <tr>\n",
       "      <th>50%</th>\n",
       "      <td>2.140045e+07</td>\n",
       "      <td>1.000000</td>\n",
       "      <td>5.000000</td>\n",
       "      <td>2.000000</td>\n",
       "      <td>12.300000</td>\n",
       "      <td>1.000000</td>\n",
       "      <td>1.600000</td>\n",
       "      <td>13.700000</td>\n",
       "      <td>2.000000</td>\n",
       "      <td>201949.000000</td>\n",
       "      <td>3.700000</td>\n",
       "      <td>0.000000</td>\n",
       "      <td>0.000000</td>\n",
       "      <td>201939.000000</td>\n",
       "    </tr>\n",
       "    <tr>\n",
       "      <th>75%</th>\n",
       "      <td>2.140067e+07</td>\n",
       "      <td>9.000000</td>\n",
       "      <td>9.000000</td>\n",
       "      <td>3.000000</td>\n",
       "      <td>16.675000</td>\n",
       "      <td>2.000000</td>\n",
       "      <td>3.700000</td>\n",
       "      <td>22.500000</td>\n",
       "      <td>3.000000</td>\n",
       "      <td>203079.000000</td>\n",
       "      <td>5.300000</td>\n",
       "      <td>1.000000</td>\n",
       "      <td>2.000000</td>\n",
       "      <td>202704.000000</td>\n",
       "    </tr>\n",
       "    <tr>\n",
       "      <th>max</th>\n",
       "      <td>2.140091e+07</td>\n",
       "      <td>53.000000</td>\n",
       "      <td>38.000000</td>\n",
       "      <td>7.000000</td>\n",
       "      <td>24.000000</td>\n",
       "      <td>32.000000</td>\n",
       "      <td>24.900000</td>\n",
       "      <td>47.200000</td>\n",
       "      <td>3.000000</td>\n",
       "      <td>530027.000000</td>\n",
       "      <td>53.200000</td>\n",
       "      <td>1.000000</td>\n",
       "      <td>3.000000</td>\n",
       "      <td>204060.000000</td>\n",
       "    </tr>\n",
       "  </tbody>\n",
       "</table>\n",
       "</div>"
      ],
      "text/plain": [
       "            GAME_ID   FINAL_MARGIN    SHOT_NUMBER         PERIOD     SHOT_CLOCK       DRIBBLES     TOUCH_TIME      SHOT_DIST       PTS_TYPE  CLOSEST_DEFENDER_PLAYER_ID  CLOSE_DEF_DIST            FGM            PTS      player_id\n",
       "count  1.280690e+05  128069.000000  128069.000000  128069.000000  122502.000000  128069.000000  128069.000000  128069.000000  128069.000000               128069.000000   128069.000000  128069.000000  128069.000000  128069.000000\n",
       "mean   2.140045e+07       0.208723       6.506899       2.469427      12.453344       2.023355       2.765901      13.571504       2.264670               159038.487284        4.123015       0.452139       0.997314  157238.251247\n",
       "std    2.578773e+02      13.233267       4.713260       1.139919       5.763265       3.477760       3.043682       8.888964       0.441159                78791.172947        2.756446       0.497706       1.130978   79362.389336\n",
       "min    2.140000e+07     -53.000000       1.000000       1.000000       0.000000       0.000000    -163.600000       0.000000       2.000000                  708.000000        0.000000       0.000000       0.000000     708.000000\n",
       "25%    2.140023e+07      -8.000000       3.000000       1.000000       8.200000       0.000000       0.900000       4.700000       2.000000               101249.000000        2.300000       0.000000       0.000000  101162.000000\n",
       "50%    2.140045e+07       1.000000       5.000000       2.000000      12.300000       1.000000       1.600000      13.700000       2.000000               201949.000000        3.700000       0.000000       0.000000  201939.000000\n",
       "75%    2.140067e+07       9.000000       9.000000       3.000000      16.675000       2.000000       3.700000      22.500000       3.000000               203079.000000        5.300000       1.000000       2.000000  202704.000000\n",
       "max    2.140091e+07      53.000000      38.000000       7.000000      24.000000      32.000000      24.900000      47.200000       3.000000               530027.000000       53.200000       1.000000       3.000000  204060.000000"
      ]
     },
     "execution_count": 8,
     "metadata": {},
     "output_type": "execute_result"
    }
   ],
   "source": [
    "df.describe()"
   ]
  },
  {
   "cell_type": "markdown",
   "metadata": {},
   "source": [
    "### first only looking at one specific player to test hot hand hypothesis"
   ]
  },
  {
   "cell_type": "code",
   "execution_count": 9,
   "metadata": {},
   "outputs": [
    {
     "data": {
      "text/plain": [
       "True"
      ]
     },
     "execution_count": 9,
     "metadata": {},
     "output_type": "execute_result"
    }
   ],
   "source": [
    "#checking to see if any other player has last name conley\n",
    "mc_df = df[df['player_name'] == 'mike conley']\n",
    "c_df = df[df['player_name'].str.contains('conley')]\n",
    "mc_df.equals(c_df)"
   ]
  },
  {
   "cell_type": "code",
   "execution_count": 10,
   "metadata": {},
   "outputs": [],
   "source": [
    "games = mc_df['GAME_ID'].unique()"
   ]
  },
  {
   "cell_type": "code",
   "execution_count": 11,
   "metadata": {},
   "outputs": [],
   "source": [
    "test_game = mc_df[mc_df['GAME_ID'] == games[0]]\n"
   ]
  },
  {
   "cell_type": "code",
   "execution_count": 12,
   "metadata": {},
   "outputs": [],
   "source": [
    "test_pattern = np.array(test_game['FGM'])"
   ]
  },
  {
   "cell_type": "code",
   "execution_count": 13,
   "metadata": {},
   "outputs": [
    {
     "data": {
      "text/plain": [
       "array([1, 0, 1, 1, 0, 1, 1, 1, 0])"
      ]
     },
     "execution_count": 13,
     "metadata": {},
     "output_type": "execute_result"
    }
   ],
   "source": [
    "test_pattern"
   ]
  },
  {
   "cell_type": "code",
   "execution_count": 53,
   "metadata": {},
   "outputs": [],
   "source": [
    "test_pattern = np.array([1,1,1,0,1,0,0,1,1,0,0,0,0,0,1,1])"
   ]
  },
  {
   "cell_type": "code",
   "execution_count": 54,
   "metadata": {},
   "outputs": [
    {
     "data": {
      "text/plain": [
       "16"
      ]
     },
     "execution_count": 54,
     "metadata": {},
     "output_type": "execute_result"
    }
   ],
   "source": [
    "len(test_pattern)"
   ]
  },
  {
   "cell_type": "code",
   "execution_count": 55,
   "metadata": {},
   "outputs": [],
   "source": [
    "def hh_alg(test_pattern):\n",
    "    make = 0\n",
    "    miss = 0\n",
    "    output_dict = {\n",
    "        #define hot hand as making a shot after 2 consecutive makes\n",
    "        'hh' : 0,\n",
    "        'nhh' : 0,\n",
    "        #counting pairs of 1s and 0s but must not use unrealized condition sets\n",
    "        'c_hh' : 0,\n",
    "        'c_nhh' : 0\n",
    "    }\n",
    "    print(output_dict)\n",
    "    #count of makes and miss\n",
    "    for i,r in enumerate(test_pattern):\n",
    "        if r == 1:\n",
    "            #checking for pairs of 1s but excluding unrealized condition sets\n",
    "            if i >= 1:\n",
    "                if r == test_pattern[i-1] and i != (len(test_pattern)-1):\n",
    "                    output_dict['c_hh'] += 1\n",
    "            #if a 1 occurs after a pair of 1s\n",
    "            if make >= 2:\n",
    "                output_dict['hh'] += 1\n",
    "            #if a 0 occurs after a pair of 1s\n",
    "            elif miss >= 2:\n",
    "                output_dict['nhh'] += 1\n",
    "            miss = 0\n",
    "            make += 1\n",
    "        else:\n",
    "            #checking for pairs of 0s\n",
    "            if i >= 1:\n",
    "                if r == test_pattern[i-1] and i != (len(test_pattern)-1):\n",
    "                    output_dict['c_nhh'] += 1\n",
    "            make = 0\n",
    "            miss += 1\n",
    "\n",
    "    print(output_dict['hh'])\n",
    "    print(output_dict['nhh'])\n",
    "    print(output_dict['c_hh'])\n",
    "    print(output_dict['c_nhh'])"
   ]
  },
  {
   "cell_type": "code",
   "execution_count": 56,
   "metadata": {},
   "outputs": [
    {
     "name": "stdout",
     "output_type": "stream",
     "text": [
      "{'hh': 0, 'nhh': 0, 'c_hh': 0, 'c_nhh': 0}\n",
      "1\n",
      "2\n",
      "3\n",
      "5\n"
     ]
    }
   ],
   "source": []
  },
  {
   "cell_type": "code",
   "execution_count": null,
   "metadata": {},
   "outputs": [],
   "source": []
  }
 ],
 "metadata": {
  "kernelspec": {
   "display_name": "Python 3",
   "language": "python",
   "name": "python3"
  },
  "language_info": {
   "codemirror_mode": {
    "name": "ipython",
    "version": 3
   },
   "file_extension": ".py",
   "mimetype": "text/x-python",
   "name": "python",
   "nbconvert_exporter": "python",
   "pygments_lexer": "ipython3",
   "version": "3.7.3"
  }
 },
 "nbformat": 4,
 "nbformat_minor": 4
}
