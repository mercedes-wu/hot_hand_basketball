{
 "cells": [
  {
   "cell_type": "code",
   "execution_count": 2,
   "metadata": {},
   "outputs": [],
   "source": [
    "import os\n",
    "import numpy as np\n",
    "import pandas as pd\n",
    "import matplotlib.pyplot as plt\n",
    "import seaborn as sns\n",
    "%matplotlib inline\n"
   ]
  },
  {
   "cell_type": "code",
   "execution_count": 3,
   "metadata": {},
   "outputs": [],
   "source": [
    "pd.set_option('display.max_rows', 500)\n",
    "pd.set_option('display.max_columns', 500)\n",
    "pd.set_option('display.width', 1000)"
   ]
  },
  {
   "cell_type": "code",
   "execution_count": 4,
   "metadata": {},
   "outputs": [],
   "source": [
    "cwd = os.getcwd()  \n",
    "df = pd.read_csv(cwd+'/shot_logs.csv')"
   ]
  },
  {
   "cell_type": "code",
   "execution_count": 5,
   "metadata": {},
   "outputs": [
    {
     "data": {
      "text/plain": [
       "Index(['GAME_ID', 'MATCHUP', 'LOCATION', 'W', 'FINAL_MARGIN', 'SHOT_NUMBER', 'PERIOD', 'GAME_CLOCK', 'SHOT_CLOCK', 'DRIBBLES', 'TOUCH_TIME', 'SHOT_DIST', 'PTS_TYPE', 'SHOT_RESULT', 'CLOSEST_DEFENDER', 'CLOSEST_DEFENDER_PLAYER_ID', 'CLOSE_DEF_DIST', 'FGM', 'PTS', 'player_name', 'player_id'], dtype='object')"
      ]
     },
     "execution_count": 5,
     "metadata": {},
     "output_type": "execute_result"
    }
   ],
   "source": [
    "df.columns"
   ]
  },
  {
   "cell_type": "code",
   "execution_count": 6,
   "metadata": {},
   "outputs": [
    {
     "name": "stdout",
     "output_type": "stream",
     "text": [
      "<class 'pandas.core.frame.DataFrame'>\n",
      "RangeIndex: 128069 entries, 0 to 128068\n",
      "Data columns (total 21 columns):\n",
      "GAME_ID                       128069 non-null int64\n",
      "MATCHUP                       128069 non-null object\n",
      "LOCATION                      128069 non-null object\n",
      "W                             128069 non-null object\n",
      "FINAL_MARGIN                  128069 non-null int64\n",
      "SHOT_NUMBER                   128069 non-null int64\n",
      "PERIOD                        128069 non-null int64\n",
      "GAME_CLOCK                    128069 non-null object\n",
      "SHOT_CLOCK                    122502 non-null float64\n",
      "DRIBBLES                      128069 non-null int64\n",
      "TOUCH_TIME                    128069 non-null float64\n",
      "SHOT_DIST                     128069 non-null float64\n",
      "PTS_TYPE                      128069 non-null int64\n",
      "SHOT_RESULT                   128069 non-null object\n",
      "CLOSEST_DEFENDER              128069 non-null object\n",
      "CLOSEST_DEFENDER_PLAYER_ID    128069 non-null int64\n",
      "CLOSE_DEF_DIST                128069 non-null float64\n",
      "FGM                           128069 non-null int64\n",
      "PTS                           128069 non-null int64\n",
      "player_name                   128069 non-null object\n",
      "player_id                     128069 non-null int64\n",
      "dtypes: float64(4), int64(10), object(7)\n",
      "memory usage: 20.5+ MB\n"
     ]
    }
   ],
   "source": [
    "df.info()"
   ]
  },
  {
   "cell_type": "code",
   "execution_count": 7,
   "metadata": {},
   "outputs": [
    {
     "data": {
      "text/html": [
       "<div>\n",
       "<style scoped>\n",
       "    .dataframe tbody tr th:only-of-type {\n",
       "        vertical-align: middle;\n",
       "    }\n",
       "\n",
       "    .dataframe tbody tr th {\n",
       "        vertical-align: top;\n",
       "    }\n",
       "\n",
       "    .dataframe thead th {\n",
       "        text-align: right;\n",
       "    }\n",
       "</style>\n",
       "<table border=\"1\" class=\"dataframe\">\n",
       "  <thead>\n",
       "    <tr style=\"text-align: right;\">\n",
       "      <th></th>\n",
       "      <th>GAME_ID</th>\n",
       "      <th>FINAL_MARGIN</th>\n",
       "      <th>SHOT_NUMBER</th>\n",
       "      <th>PERIOD</th>\n",
       "      <th>SHOT_CLOCK</th>\n",
       "      <th>DRIBBLES</th>\n",
       "      <th>TOUCH_TIME</th>\n",
       "      <th>SHOT_DIST</th>\n",
       "      <th>PTS_TYPE</th>\n",
       "      <th>CLOSEST_DEFENDER_PLAYER_ID</th>\n",
       "      <th>CLOSE_DEF_DIST</th>\n",
       "      <th>FGM</th>\n",
       "      <th>PTS</th>\n",
       "      <th>player_id</th>\n",
       "    </tr>\n",
       "  </thead>\n",
       "  <tbody>\n",
       "    <tr>\n",
       "      <th>count</th>\n",
       "      <td>1.280690e+05</td>\n",
       "      <td>128069.000000</td>\n",
       "      <td>128069.000000</td>\n",
       "      <td>128069.000000</td>\n",
       "      <td>122502.000000</td>\n",
       "      <td>128069.000000</td>\n",
       "      <td>128069.000000</td>\n",
       "      <td>128069.000000</td>\n",
       "      <td>128069.000000</td>\n",
       "      <td>128069.000000</td>\n",
       "      <td>128069.000000</td>\n",
       "      <td>128069.000000</td>\n",
       "      <td>128069.000000</td>\n",
       "      <td>128069.000000</td>\n",
       "    </tr>\n",
       "    <tr>\n",
       "      <th>mean</th>\n",
       "      <td>2.140045e+07</td>\n",
       "      <td>0.208723</td>\n",
       "      <td>6.506899</td>\n",
       "      <td>2.469427</td>\n",
       "      <td>12.453344</td>\n",
       "      <td>2.023355</td>\n",
       "      <td>2.765901</td>\n",
       "      <td>13.571504</td>\n",
       "      <td>2.264670</td>\n",
       "      <td>159038.487284</td>\n",
       "      <td>4.123015</td>\n",
       "      <td>0.452139</td>\n",
       "      <td>0.997314</td>\n",
       "      <td>157238.251247</td>\n",
       "    </tr>\n",
       "    <tr>\n",
       "      <th>std</th>\n",
       "      <td>2.578773e+02</td>\n",
       "      <td>13.233267</td>\n",
       "      <td>4.713260</td>\n",
       "      <td>1.139919</td>\n",
       "      <td>5.763265</td>\n",
       "      <td>3.477760</td>\n",
       "      <td>3.043682</td>\n",
       "      <td>8.888964</td>\n",
       "      <td>0.441159</td>\n",
       "      <td>78791.172947</td>\n",
       "      <td>2.756446</td>\n",
       "      <td>0.497706</td>\n",
       "      <td>1.130978</td>\n",
       "      <td>79362.389336</td>\n",
       "    </tr>\n",
       "    <tr>\n",
       "      <th>min</th>\n",
       "      <td>2.140000e+07</td>\n",
       "      <td>-53.000000</td>\n",
       "      <td>1.000000</td>\n",
       "      <td>1.000000</td>\n",
       "      <td>0.000000</td>\n",
       "      <td>0.000000</td>\n",
       "      <td>-163.600000</td>\n",
       "      <td>0.000000</td>\n",
       "      <td>2.000000</td>\n",
       "      <td>708.000000</td>\n",
       "      <td>0.000000</td>\n",
       "      <td>0.000000</td>\n",
       "      <td>0.000000</td>\n",
       "      <td>708.000000</td>\n",
       "    </tr>\n",
       "    <tr>\n",
       "      <th>25%</th>\n",
       "      <td>2.140023e+07</td>\n",
       "      <td>-8.000000</td>\n",
       "      <td>3.000000</td>\n",
       "      <td>1.000000</td>\n",
       "      <td>8.200000</td>\n",
       "      <td>0.000000</td>\n",
       "      <td>0.900000</td>\n",
       "      <td>4.700000</td>\n",
       "      <td>2.000000</td>\n",
       "      <td>101249.000000</td>\n",
       "      <td>2.300000</td>\n",
       "      <td>0.000000</td>\n",
       "      <td>0.000000</td>\n",
       "      <td>101162.000000</td>\n",
       "    </tr>\n",
       "    <tr>\n",
       "      <th>50%</th>\n",
       "      <td>2.140045e+07</td>\n",
       "      <td>1.000000</td>\n",
       "      <td>5.000000</td>\n",
       "      <td>2.000000</td>\n",
       "      <td>12.300000</td>\n",
       "      <td>1.000000</td>\n",
       "      <td>1.600000</td>\n",
       "      <td>13.700000</td>\n",
       "      <td>2.000000</td>\n",
       "      <td>201949.000000</td>\n",
       "      <td>3.700000</td>\n",
       "      <td>0.000000</td>\n",
       "      <td>0.000000</td>\n",
       "      <td>201939.000000</td>\n",
       "    </tr>\n",
       "    <tr>\n",
       "      <th>75%</th>\n",
       "      <td>2.140067e+07</td>\n",
       "      <td>9.000000</td>\n",
       "      <td>9.000000</td>\n",
       "      <td>3.000000</td>\n",
       "      <td>16.675000</td>\n",
       "      <td>2.000000</td>\n",
       "      <td>3.700000</td>\n",
       "      <td>22.500000</td>\n",
       "      <td>3.000000</td>\n",
       "      <td>203079.000000</td>\n",
       "      <td>5.300000</td>\n",
       "      <td>1.000000</td>\n",
       "      <td>2.000000</td>\n",
       "      <td>202704.000000</td>\n",
       "    </tr>\n",
       "    <tr>\n",
       "      <th>max</th>\n",
       "      <td>2.140091e+07</td>\n",
       "      <td>53.000000</td>\n",
       "      <td>38.000000</td>\n",
       "      <td>7.000000</td>\n",
       "      <td>24.000000</td>\n",
       "      <td>32.000000</td>\n",
       "      <td>24.900000</td>\n",
       "      <td>47.200000</td>\n",
       "      <td>3.000000</td>\n",
       "      <td>530027.000000</td>\n",
       "      <td>53.200000</td>\n",
       "      <td>1.000000</td>\n",
       "      <td>3.000000</td>\n",
       "      <td>204060.000000</td>\n",
       "    </tr>\n",
       "  </tbody>\n",
       "</table>\n",
       "</div>"
      ],
      "text/plain": [
       "            GAME_ID   FINAL_MARGIN    SHOT_NUMBER         PERIOD     SHOT_CLOCK       DRIBBLES     TOUCH_TIME      SHOT_DIST       PTS_TYPE  CLOSEST_DEFENDER_PLAYER_ID  CLOSE_DEF_DIST            FGM            PTS      player_id\n",
       "count  1.280690e+05  128069.000000  128069.000000  128069.000000  122502.000000  128069.000000  128069.000000  128069.000000  128069.000000               128069.000000   128069.000000  128069.000000  128069.000000  128069.000000\n",
       "mean   2.140045e+07       0.208723       6.506899       2.469427      12.453344       2.023355       2.765901      13.571504       2.264670               159038.487284        4.123015       0.452139       0.997314  157238.251247\n",
       "std    2.578773e+02      13.233267       4.713260       1.139919       5.763265       3.477760       3.043682       8.888964       0.441159                78791.172947        2.756446       0.497706       1.130978   79362.389336\n",
       "min    2.140000e+07     -53.000000       1.000000       1.000000       0.000000       0.000000    -163.600000       0.000000       2.000000                  708.000000        0.000000       0.000000       0.000000     708.000000\n",
       "25%    2.140023e+07      -8.000000       3.000000       1.000000       8.200000       0.000000       0.900000       4.700000       2.000000               101249.000000        2.300000       0.000000       0.000000  101162.000000\n",
       "50%    2.140045e+07       1.000000       5.000000       2.000000      12.300000       1.000000       1.600000      13.700000       2.000000               201949.000000        3.700000       0.000000       0.000000  201939.000000\n",
       "75%    2.140067e+07       9.000000       9.000000       3.000000      16.675000       2.000000       3.700000      22.500000       3.000000               203079.000000        5.300000       1.000000       2.000000  202704.000000\n",
       "max    2.140091e+07      53.000000      38.000000       7.000000      24.000000      32.000000      24.900000      47.200000       3.000000               530027.000000       53.200000       1.000000       3.000000  204060.000000"
      ]
     },
     "execution_count": 7,
     "metadata": {},
     "output_type": "execute_result"
    }
   ],
   "source": [
    "df.describe()"
   ]
  },
  {
   "cell_type": "markdown",
   "metadata": {},
   "source": [
    "### functions for testing hot hand hypothesis\n",
    "#### We are looking for the difference of conditional properties: the probability of making a shot given a string hit of misses minus the probablity of making a shot given an equal string of misses. \n",
    "#### If the observed difference is large relative to the typical difference corresponding to a random string on the same length and the same number of hits and misses, the observation corresponds to a hot hand"
   ]
  },
  {
   "cell_type": "code",
   "execution_count": 8,
   "metadata": {},
   "outputs": [],
   "source": [
    "#this is for original hot hand study taking into account unrealized conditioning sets\n",
    "def hh_alg(gameid, test_pattern,index):\n",
    "    \n",
    "    make = 0\n",
    "    miss = 0\n",
    "    output_dict = {\n",
    "        'gameid': gameid,\n",
    "        'array': test_pattern,\n",
    "        'len': len(test_pattern),\n",
    "        #define hot hand as making a shot after 2 consecutive makes\n",
    "        'hh' : 0,\n",
    "        'nhh' : 0,\n",
    "        #counting pairs of 1s and 0s but must not using unrealized condition sets\n",
    "        'c_hh' : 0,\n",
    "        'c_nhh' : 0,\n",
    "        #finding the test statistic\n",
    "        'cp_hot': 0,\n",
    "        'cp_nhot': 0,\n",
    "        'cp_del': 0,\n",
    "    }\n",
    "    \n",
    "    #count of makes and miss\n",
    "    for i,r in enumerate(test_pattern):\n",
    "        if r == 1:\n",
    "            #checking for pairs of 1s but excluding unrealized condition sets\n",
    "            if i >= 1:\n",
    "                if r == test_pattern[i-1] and i != (len(test_pattern)-1):\n",
    "                    output_dict['c_hh'] += 1\n",
    "            #if a 1 occurs after a pair of 1s\n",
    "            if make >= 2:\n",
    "                output_dict['hh'] += 1\n",
    "            #if a 0 occurs after a pair of 1s\n",
    "            elif miss >= 2:\n",
    "                output_dict['nhh'] += 1\n",
    "            miss = 0\n",
    "            make += 1\n",
    "        else:\n",
    "            #checking for pairs of 0s\n",
    "            if i >= 1:\n",
    "                if r == test_pattern[i-1] and i != (len(test_pattern)-1):\n",
    "                    output_dict['c_nhh'] += 1\n",
    "            make = 0\n",
    "            miss += 1\n",
    "    #what if no cases of 111 or 001 appear? then we will get a divide by 0 error\n",
    "    if output_dict['c_hh'] == 0 and output_dict['c_nhh'] == 0:\n",
    "        output_dict['cp_hot'] = 0\n",
    "        output_dict['cp_nhot'] = 0\n",
    "    \n",
    "    elif output_dict['c_hh'] == 0:\n",
    "        output_dict['cp_hot'] = 0\n",
    "        output_dict['cp_nhot'] = output_dict['nhh']/output_dict['c_nhh']\n",
    "        \n",
    "    elif output_dict['c_nhh'] == 0:\n",
    "        output_dict['cp_hot'] = output_dict['hh']/output_dict['c_hh']\n",
    "        output_dict['cp_nhot'] = 0\n",
    "        \n",
    "    else:\n",
    "        output_dict['cp_hot'] = output_dict['hh']/output_dict['c_hh']\n",
    "        output_dict['cp_nhot'] = output_dict['nhh']/output_dict['c_nhh']\n",
    "        \n",
    "    output_dict['cp_del'] = output_dict['cp_hot'] - output_dict['cp_nhot']\n",
    "    \n",
    "    #this 'cp_del' needs to be compared with 10,000 permutations of the original array to find the p value\n",
    "    #might be a chance to try recursion since the same calculations need to be made to find the cp_del for the permutation string\n",
    "        \n",
    "    return output_dict"
   ]
  },
  {
   "cell_type": "code",
   "execution_count": 9,
   "metadata": {},
   "outputs": [],
   "source": [
    "#make a hot_hand dataframe for a certain player\n",
    "def hh_df(pdf, num_perm):\n",
    "    games = pdf['GAME_ID'].unique()\n",
    "    dlist = []\n",
    "    for i,game in enumerate(games):\n",
    "        perm = 0\n",
    "        test_game = pdf[pdf['GAME_ID'] == game]\n",
    "        test_pattern = np.array(test_game['FGM'])\n",
    "        mdict = hh_alg(game,test_pattern, i)\n",
    "        #the fraction onf permuted test statistics (pdict['cp_del']) \n",
    "        #that exceed the observed test statistic (mdict['cp_del']) is its p-value\n",
    "        num_exceed = 0\n",
    "        while perm < num_perm:\n",
    "            #random rearrangment of a games make and miss patter allows for quantitative aseessment of its rarity\n",
    "            pdict = hh_alg(0,np.random.permutation(test_pattern), 0)\n",
    "            if pdict['cp_del'] > mdict['cp_del']:\n",
    "                num_exceed += 1\n",
    "            perm += 1\n",
    "        #a smaller p value corresponds to a stronger evidence of a hot hand\n",
    "        p_value = num_exceed / num_perm\n",
    "        mdict['p_value'] = p_value\n",
    "        dlist.append(mdict)\n",
    "    \n",
    "    df = pd.DataFrame(dlist)\n",
    "    return df\n",
    "    "
   ]
  },
  {
   "cell_type": "markdown",
   "metadata": {},
   "source": [
    "### testing hot hand hypothesis on favorite players vs steph curry and klay thompson (general consensus to have a hot hand)\n",
    "\n"
   ]
  },
  {
   "cell_type": "code",
   "execution_count": 10,
   "metadata": {},
   "outputs": [
    {
     "name": "stdout",
     "output_type": "stream",
     "text": [
      "mike conley\n",
      "goran dragic\n",
      "damian lillard\n",
      "stephen curry\n",
      "klay thompson\n"
     ]
    }
   ],
   "source": [
    "players = ['mike conley', 'goran dragic', 'damian lillard', 'stephen curry', 'klay thompson']\n",
    "#will need to write functions to make sure games aren't missing for players but for now just using simple filtering\n",
    "p_dict = {}\n",
    "for p in players:\n",
    "    print(p)\n",
    "    p_df = df[df['player_name'] == p]\n",
    "    p_dict[p] = hh_df(p_df, 10000)"
   ]
  },
  {
   "cell_type": "markdown",
   "metadata": {},
   "source": [
    "### Box-plot and CDF of a players p-value"
   ]
  },
  {
   "cell_type": "code",
   "execution_count": 61,
   "metadata": {},
   "outputs": [
    {
     "data": {
      "image/png": "[encoded data removed]",
      "text/plain": [
       "<Figure size 842.4x595.44 with 1 Axes>"
      ]
     },
     "metadata": {
      "needs_background": "light"
     },
     "output_type": "display_data"
    },
    {
     "data": {
      "image/png": "[encoded data removed]",
      "text/plain": [
       "<Figure size 842.4x595.44 with 1 Axes>"
      ]
     },
     "metadata": {
      "needs_background": "light"
     },
     "output_type": "display_data"
    }
   ],
   "source": [
    "def plot_bp_cdf(p_dict):\n",
    "    p_list = []\n",
    "    p_pval = []\n",
    "    box_df = pd.DataFrame()\n",
    "    for p,df in p_dict.items():\n",
    "        df['player'] = p\n",
    "        box_df = box_df.append(df[['player', 'p_value']])\n",
    "\n",
    "\n",
    "    a4_dims = (11.7, 8.27)\n",
    "    fig, ax = plt.subplots(1, figsize=a4_dims)\n",
    "    sns.boxplot(x='player', y='p_value', data=box_df)\n",
    "    ax.set_xlabel('')\n",
    "\n",
    "    fig2,ax2 = plt.subplots(1, figsize=a4_dims)\n",
    "    for p,df in p_dict.items():\n",
    "        df['p_value'].hist(cumulative=True, density=True, alpha=.5, bins=100, histtype='step', label=p, lw=2)\n",
    "    ax2.legend(loc='upper center', bbox_to_anchor=(0.5, -0.05),\n",
    "              fancybox=True, shadow=True, ncol=5)\n",
    "    ax2.set_xlabel('P-Value')\n",
    "    ax2.set_ylabel('Probablility')\n",
    "    plt.tight_layout()\n",
    "    plt.show()\n",
    "plot_bp_cdf(p_dict)"
   ]
  },
  {
   "cell_type": "markdown",
   "metadata": {},
   "source": [
    "### Find number of hot hand games that are significant at a 5% level"
   ]
  },
  {
   "cell_type": "code",
   "execution_count": 12,
   "metadata": {},
   "outputs": [],
   "source": [
    "#choosing a signficance level of 5%\n",
    "games_to_watch = []\n",
    "for p,df in p_dict.items():\n",
    "    games_to_watch.append(df.query('p_value <= 0.05 & 0 < p_value'))\n",
    "games_to_watch_df = pd.concat(games_to_watch).reset_index()"
   ]
  },
  {
   "cell_type": "code",
   "execution_count": 13,
   "metadata": {},
   "outputs": [
    {
     "data": {
      "text/html": [
       "<div>\n",
       "<style scoped>\n",
       "    .dataframe tbody tr th:only-of-type {\n",
       "        vertical-align: middle;\n",
       "    }\n",
       "\n",
       "    .dataframe tbody tr th {\n",
       "        vertical-align: top;\n",
       "    }\n",
       "\n",
       "    .dataframe thead th {\n",
       "        text-align: right;\n",
       "    }\n",
       "</style>\n",
       "<table border=\"1\" class=\"dataframe\">\n",
       "  <thead>\n",
       "    <tr style=\"text-align: right;\">\n",
       "      <th></th>\n",
       "      <th>index</th>\n",
       "      <th>gameid</th>\n",
       "      <th>array</th>\n",
       "      <th>len</th>\n",
       "      <th>hh</th>\n",
       "      <th>nhh</th>\n",
       "      <th>c_hh</th>\n",
       "      <th>c_nhh</th>\n",
       "      <th>cp_hot</th>\n",
       "      <th>cp_nhot</th>\n",
       "      <th>cp_del</th>\n",
       "      <th>p_value</th>\n",
       "      <th>player</th>\n",
       "    </tr>\n",
       "  </thead>\n",
       "  <tbody>\n",
       "    <tr>\n",
       "      <th>0</th>\n",
       "      <td>12</td>\n",
       "      <td>21400725</td>\n",
       "      <td>[0, 1, 1, 1, 0, 1, 1, 1, 1, 0, 1, 0, 1, 0, 0]</td>\n",
       "      <td>15</td>\n",
       "      <td>3</td>\n",
       "      <td>0</td>\n",
       "      <td>5</td>\n",
       "      <td>0</td>\n",
       "      <td>0.600000</td>\n",
       "      <td>0.000000</td>\n",
       "      <td>0.600000</td>\n",
       "      <td>0.0221</td>\n",
       "      <td>mike conley</td>\n",
       "    </tr>\n",
       "    <tr>\n",
       "      <th>1</th>\n",
       "      <td>6</td>\n",
       "      <td>21400817</td>\n",
       "      <td>[0, 0, 0, 0, 0, 1, 1, 1, 1, 0, 0]</td>\n",
       "      <td>11</td>\n",
       "      <td>2</td>\n",
       "      <td>1</td>\n",
       "      <td>3</td>\n",
       "      <td>4</td>\n",
       "      <td>0.666667</td>\n",
       "      <td>0.250000</td>\n",
       "      <td>0.416667</td>\n",
       "      <td>0.0476</td>\n",
       "      <td>goran dragic</td>\n",
       "    </tr>\n",
       "    <tr>\n",
       "      <th>2</th>\n",
       "      <td>15</td>\n",
       "      <td>21400639</td>\n",
       "      <td>[0, 1, 0, 0, 0, 1, 1, 0, 0, 0, 0, 0, 0, 0, 1, ...</td>\n",
       "      <td>23</td>\n",
       "      <td>3</td>\n",
       "      <td>2</td>\n",
       "      <td>5</td>\n",
       "      <td>10</td>\n",
       "      <td>0.600000</td>\n",
       "      <td>0.200000</td>\n",
       "      <td>0.400000</td>\n",
       "      <td>0.0487</td>\n",
       "      <td>damian lillard</td>\n",
       "    </tr>\n",
       "    <tr>\n",
       "      <th>3</th>\n",
       "      <td>43</td>\n",
       "      <td>21400224</td>\n",
       "      <td>[1, 0, 1, 0, 1, 0, 0, 1, 0, 1, 0, 1, 0, 0, 0, ...</td>\n",
       "      <td>20</td>\n",
       "      <td>1</td>\n",
       "      <td>2</td>\n",
       "      <td>1</td>\n",
       "      <td>5</td>\n",
       "      <td>1.000000</td>\n",
       "      <td>0.400000</td>\n",
       "      <td>0.600000</td>\n",
       "      <td>0.0072</td>\n",
       "      <td>stephen curry</td>\n",
       "    </tr>\n",
       "    <tr>\n",
       "      <th>4</th>\n",
       "      <td>18</td>\n",
       "      <td>21400651</td>\n",
       "      <td>[0, 1, 1, 1, 0, 0, 0, 0, 0, 1, 1, 1, 1, 1, 1, ...</td>\n",
       "      <td>25</td>\n",
       "      <td>12</td>\n",
       "      <td>1</td>\n",
       "      <td>14</td>\n",
       "      <td>5</td>\n",
       "      <td>0.857143</td>\n",
       "      <td>0.200000</td>\n",
       "      <td>0.657143</td>\n",
       "      <td>0.0044</td>\n",
       "      <td>klay thompson</td>\n",
       "    </tr>\n",
       "    <tr>\n",
       "      <th>5</th>\n",
       "      <td>28</td>\n",
       "      <td>21400493</td>\n",
       "      <td>[1, 0, 1, 1, 1, 0, 1, 1, 1, 1, 0, 0, 0]</td>\n",
       "      <td>13</td>\n",
       "      <td>3</td>\n",
       "      <td>0</td>\n",
       "      <td>5</td>\n",
       "      <td>1</td>\n",
       "      <td>0.600000</td>\n",
       "      <td>0.000000</td>\n",
       "      <td>0.600000</td>\n",
       "      <td>0.0386</td>\n",
       "      <td>klay thompson</td>\n",
       "    </tr>\n",
       "    <tr>\n",
       "      <th>6</th>\n",
       "      <td>54</td>\n",
       "      <td>21400068</td>\n",
       "      <td>[0, 0, 1, 1, 1, 1, 1, 1, 1, 0, 0, 0, 0]</td>\n",
       "      <td>13</td>\n",
       "      <td>5</td>\n",
       "      <td>1</td>\n",
       "      <td>6</td>\n",
       "      <td>3</td>\n",
       "      <td>0.833333</td>\n",
       "      <td>0.333333</td>\n",
       "      <td>0.500000</td>\n",
       "      <td>0.0304</td>\n",
       "      <td>klay thompson</td>\n",
       "    </tr>\n",
       "  </tbody>\n",
       "</table>\n",
       "</div>"
      ],
      "text/plain": [
       "   index    gameid                                              array  len  hh  nhh  c_hh  c_nhh    cp_hot   cp_nhot    cp_del  p_value          player\n",
       "0     12  21400725      [0, 1, 1, 1, 0, 1, 1, 1, 1, 0, 1, 0, 1, 0, 0]   15   3    0     5      0  0.600000  0.000000  0.600000   0.0221     mike conley\n",
       "1      6  21400817                  [0, 0, 0, 0, 0, 1, 1, 1, 1, 0, 0]   11   2    1     3      4  0.666667  0.250000  0.416667   0.0476    goran dragic\n",
       "2     15  21400639  [0, 1, 0, 0, 0, 1, 1, 0, 0, 0, 0, 0, 0, 0, 1, ...   23   3    2     5     10  0.600000  0.200000  0.400000   0.0487  damian lillard\n",
       "3     43  21400224  [1, 0, 1, 0, 1, 0, 0, 1, 0, 1, 0, 1, 0, 0, 0, ...   20   1    2     1      5  1.000000  0.400000  0.600000   0.0072   stephen curry\n",
       "4     18  21400651  [0, 1, 1, 1, 0, 0, 0, 0, 0, 1, 1, 1, 1, 1, 1, ...   25  12    1    14      5  0.857143  0.200000  0.657143   0.0044   klay thompson\n",
       "5     28  21400493            [1, 0, 1, 1, 1, 0, 1, 1, 1, 1, 0, 0, 0]   13   3    0     5      1  0.600000  0.000000  0.600000   0.0386   klay thompson\n",
       "6     54  21400068            [0, 0, 1, 1, 1, 1, 1, 1, 1, 0, 0, 0, 0]   13   5    1     6      3  0.833333  0.333333  0.500000   0.0304   klay thompson"
      ]
     },
     "execution_count": 13,
     "metadata": {},
     "output_type": "execute_result"
    }
   ],
   "source": [
    "games_to_watch_df"
   ]
  },
  {
   "cell_type": "code",
   "execution_count": 14,
   "metadata": {},
   "outputs": [
    {
     "data": {
      "text/plain": [
       "array([1, 0, 1, 0, 1, 0, 0, 1, 0, 1, 0, 1, 0, 0, 0, 0, 0, 1, 1, 1])"
      ]
     },
     "execution_count": 14,
     "metadata": {},
     "output_type": "execute_result"
    }
   ],
   "source": [
    "#to me this doesn't seem like a hot hand but it follows the definition set for the test statistic\n",
    "games_to_watch_df['array'].iloc[3]"
   ]
  },
  {
   "cell_type": "markdown",
   "metadata": {},
   "source": [
    "### Showing games that may correspond to stronger evidence of a hot hand (red dotted lines)"
   ]
  },
  {
   "cell_type": "code",
   "execution_count": 15,
   "metadata": {},
   "outputs": [],
   "source": [
    "# pat60 = np.array([1,1,0,1,1,1,1,0,0,1,0,1,1,1,1,1,1,0,0,1,1,1,0,1,1,1,1,0,1,1,1,0,1,1,1,1,0,1,0,1,0,1,0,1])"
   ]
  },
  {
   "cell_type": "code",
   "execution_count": 43,
   "metadata": {},
   "outputs": [],
   "source": [
    "def hist_calc(game, pat_ar, num_perm):\n",
    "    d_list = []\n",
    "    perm = 0\n",
    "    num_perm = 10000\n",
    "    mdict = hh_alg(game, pat_ar, num_perm)\n",
    "    d_list.append(mdict)\n",
    "    #the fraction onf permuted test statistics (pdict['cp_del']) \n",
    "    #that exceed the observed test statistic (mdict['cp_del']) is its p-value\n",
    "    num_exceed = 0\n",
    "    while perm < 10000:\n",
    "        #random rearrangment of a games make and miss patter allows for quantitative aseessment of its rarity\n",
    "        pdict = hh_alg('perm',np.random.permutation(pat60), 0)\n",
    "        d_list.append(pdict)\n",
    "        if pdict['cp_del'] > mdict['cp_del']:\n",
    "            num_exceed += 1\n",
    "        perm += 1\n",
    "        #a smaller p value corresponds to a stronger evidence of a hot hand\n",
    "        p_value = num_exceed / num_perm\n",
    "        mdict['p_value'] = p_value\n",
    "    \n",
    "    hist_df = pd.DataFrame(d_list)\n",
    "    return hist_df"
   ]
  },
  {
   "cell_type": "code",
   "execution_count": 60,
   "metadata": {
    "scrolled": false
   },
   "outputs": [
    {
     "data": {
      "image/png": "[encoded data removed]",
      "text/plain": [
       "<Figure size 720x2160 with 7 Axes>"
      ]
     },
     "metadata": {
      "needs_background": "light"
     },
     "output_type": "display_data"
    }
   ],
   "source": [
    "a4_dims = (10, 30)\n",
    "nrows=games_to_watch_df.shape[0]\n",
    "fig, axes = plt.subplots(nrows=nrows, figsize=a4_dims)\n",
    "\n",
    "for df_ind, row in games_to_watch_df.iterrows():\n",
    "    ax = axes[df_ind]\n",
    "    hist_df = hist_calc(row['player'],row['array'],10000)\n",
    "    ax.hist(hist_df['cp_del'], bins=50)\n",
    "    ax.set_xlabel('test statistic of 2 hits')\n",
    "    ax.set_title(row['player']+': '+str(row['gameid']))\n",
    "    ax.yaxis.set_visible(False)\n",
    "    ax.set_xlim([-1, 1])\n",
    "    #this red line represents the test statistic of the actual game, \n",
    "    #therefore these games represent possible evidence of a hot-hand\n",
    "    ax.axvline(x=row['cp_del'], color='r', linestyle='dashed', linewidth=2)\n",
    "    plt.tight_layout()\n"
   ]
  },
  {
   "cell_type": "code",
   "execution_count": null,
   "metadata": {},
   "outputs": [],
   "source": []
  }
 ],
 "metadata": {
  "kernelspec": {
   "display_name": "Python 3",
   "language": "python",
   "name": "python3"
  },
  "language_info": {
   "codemirror_mode": {
    "name": "ipython",
    "version": 3
   },
   "file_extension": ".py",
   "mimetype": "text/x-python",
   "name": "python",
   "nbconvert_exporter": "python",
   "pygments_lexer": "ipython3",
   "version": "3.7.3"
  }
 },
 "nbformat": 4,
 "nbformat_minor": 4
}
